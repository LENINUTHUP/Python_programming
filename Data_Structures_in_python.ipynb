{
 "cells": [
  {
   "cell_type": "markdown",
   "id": "c258b16c-0083-4f3b-a094-e23d59f68bcb",
   "metadata": {},
   "source": [
    "## LIST EXERCISES\n"
   ]
  },
  {
   "cell_type": "code",
   "execution_count": 8,
   "id": "aaeb484a-3296-4020-b6f6-775b43a3078b",
   "metadata": {},
   "outputs": [
    {
     "name": "stdout",
     "output_type": "stream",
     "text": [
      "List of five random numbers: [24, 4, 27, 24, 50]\n"
     ]
    }
   ],
   "source": [
    "#Creating a list of five random numbers\n",
    "import random\n",
    "\n",
    "rand_num=[random.randint(1,50) for _ in range(5)]\n",
    "print(\"List of five random numbers:\",rand_num)\n"
   ]
  },
  {
   "cell_type": "code",
   "execution_count": 25,
   "id": "d5ec47eb-6ea7-47d9-b930-6dcdb08e6d0e",
   "metadata": {},
   "outputs": [
    {
     "name": "stdout",
     "output_type": "stream",
     "text": [
      "List of five random numbers: [24, 4, 27, 24, 50, 9, 33, 29, 22, 28, 14]\n"
     ]
    }
   ],
   "source": [
    "#Inserting 3 new random values\n",
    "\n",
    "rand_num.extend([random.randint(1,50) for _ in range(3)])\n",
    "print(\"List of five random numbers:\",rand_num)\n",
    "\n",
    "                "
   ]
  },
  {
   "cell_type": "code",
   "execution_count": 12,
   "id": "44a8f132-1b15-4117-ae2a-425a29c9b79d",
   "metadata": {},
   "outputs": [
    {
     "name": "stdout",
     "output_type": "stream",
     "text": [
      "Numbers in the list:\n",
      "24\n",
      "4\n",
      "27\n",
      "24\n",
      "50\n",
      "9\n",
      "33\n",
      "29\n"
     ]
    }
   ],
   "source": [
    "#printing numbers in the list\n",
    "\n",
    "print(\"Numbers in the list:\")\n",
    "for numbers in rand_num:\n",
    "    print(numbers)"
   ]
  },
  {
   "cell_type": "markdown",
   "id": "2a5de794-8e36-4ec9-ac51-1ea746470b33",
   "metadata": {},
   "source": [
    "## DICTIONARY EXERCISES"
   ]
  },
  {
   "cell_type": "code",
   "execution_count": 15,
   "id": "ebf087b3-9021-4d9e-8e4b-d72b03f43fb3",
   "metadata": {},
   "outputs": [
    {
     "name": "stdout",
     "output_type": "stream",
     "text": [
      "{'Name': 'John', 'Age': 25, 'Place': 'New York'}\n"
     ]
    }
   ],
   "source": [
    "#Creating a dictionary\n",
    "\n",
    "person_info={'Name':'John','Age':25,'Place':'New York'}\n",
    "print(person_info)"
   ]
  },
  {
   "cell_type": "code",
   "execution_count": 20,
   "id": "72ee9a20-19fa-49d0-868b-7d7be8c2a85e",
   "metadata": {},
   "outputs": [
    {
     "name": "stdout",
     "output_type": "stream",
     "text": [
      "Updated Dictionary: {'Name': 'John', 'Age': 25, 'Place': 'New York', 'Phone': 1234567890}\n"
     ]
    }
   ],
   "source": [
    "#Add a new element\n",
    "\n",
    "person_info['Phone']=1234567890\n",
    "print(\"Updated Dictionary:\",person_info)"
   ]
  },
  {
   "cell_type": "markdown",
   "id": "444bf1d9-cc43-4484-8f84-ab4b65811158",
   "metadata": {},
   "source": [
    "## SET EXERCISES"
   ]
  },
  {
   "cell_type": "code",
   "execution_count": 22,
   "id": "3ee82acf-6b4c-4171-9bca-a2f438e4cb19",
   "metadata": {},
   "outputs": [
    {
     "name": "stdout",
     "output_type": "stream",
     "text": [
      "set: {1, 2, 3, 4, 5}\n"
     ]
    }
   ],
   "source": [
    "#Create a set\n",
    "\n",
    "Num_set={1,2,3,4,5}\n",
    "print(\"set:\",Num_set)"
   ]
  },
  {
   "cell_type": "code",
   "execution_count": 23,
   "id": "87a763be-7815-42a1-a03e-b514688e502c",
   "metadata": {},
   "outputs": [
    {
     "name": "stdout",
     "output_type": "stream",
     "text": [
      "updated set: {1, 2, 3, 4, 5, 6}\n"
     ]
    }
   ],
   "source": [
    "#Add 6 to the list\n",
    "\n",
    "Num_set.add(6)\n",
    "print(\"updated set:\",Num_set)"
   ]
  },
  {
   "cell_type": "code",
   "execution_count": 26,
   "id": "b1b88b85-681e-426c-bc4a-2364709c9756",
   "metadata": {},
   "outputs": [
    {
     "name": "stdout",
     "output_type": "stream",
     "text": [
      "updated set: {1, 2, 4, 5, 6}\n"
     ]
    }
   ],
   "source": [
    "#Remove 3 from the list\n",
    "\n",
    "Num_set.remove(3)\n",
    "print(\"updated set:\",Num_set)"
   ]
  },
  {
   "cell_type": "markdown",
   "id": "8b165182-ecbd-4f15-b25c-aa96668b7a86",
   "metadata": {},
   "source": [
    "## TUPLE EXERCISES"
   ]
  },
  {
   "cell_type": "code",
   "execution_count": 27,
   "id": "f7937c25-7235-4017-ac6b-5d33a2a5faee",
   "metadata": {},
   "outputs": [
    {
     "name": "stdout",
     "output_type": "stream",
     "text": [
      "Tuple: (1, 2, 3, 4)\n"
     ]
    }
   ],
   "source": [
    "# Create a tuple\n",
    "\n",
    "tuple_num=(1,2,3,4)\n",
    "print(\"Tuple:\",tuple_num)"
   ]
  },
  {
   "cell_type": "code",
   "execution_count": 28,
   "id": "3403432c-6f81-49f3-a783-013eca8941b8",
   "metadata": {},
   "outputs": [
    {
     "name": "stdout",
     "output_type": "stream",
     "text": [
      "Length of the Tuple is : 4\n"
     ]
    }
   ],
   "source": [
    "#Length of the Tuple\n",
    "\n",
    "print(\"Length of the Tuple is :\",len(tuple_num))"
   ]
  },
  {
   "cell_type": "code",
   "execution_count": null,
   "id": "1ca071cc-7384-47b9-b873-cbe3e30f8333",
   "metadata": {},
   "outputs": [],
   "source": []
  }
 ],
 "metadata": {
  "kernelspec": {
   "display_name": "Python 3 (ipykernel)",
   "language": "python",
   "name": "python3"
  },
  "language_info": {
   "codemirror_mode": {
    "name": "ipython",
    "version": 3
   },
   "file_extension": ".py",
   "mimetype": "text/x-python",
   "name": "python",
   "nbconvert_exporter": "python",
   "pygments_lexer": "ipython3",
   "version": "3.12.7"
  }
 },
 "nbformat": 4,
 "nbformat_minor": 5
}
