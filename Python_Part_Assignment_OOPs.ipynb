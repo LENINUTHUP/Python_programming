{
 "cells": [
  {
   "cell_type": "markdown",
   "id": "186a5c38-93da-448d-a7af-accaa34b0f06",
   "metadata": {},
   "source": [
    "## University Catalog"
   ]
  },
  {
   "cell_type": "code",
   "execution_count": 20,
   "id": "33234f88-2e54-43f3-89bf-c1f4e79a46c3",
   "metadata": {},
   "outputs": [],
   "source": [
    "class Course:\n",
    "    def __init__(self, course_code: str, course_name: str, credit_hours: int):\n",
    "        self.course_code = course_code\n",
    "        self.course_name = course_name\n",
    "        self.credit_hours = credit_hours\n",
    "\n",
    "    def __str__(self):\n",
    "        return f\"{self.course_code}: {self.course_name} ({self.credit_hours}:credit hours)\"\n",
    "\n",
    "\n",
    "class CoreCourse(Course):\n",
    "    def __init__(self, course_code: str, course_name: str, credit_hours: int, required_for_major: bool):\n",
    "        super().__init__(course_code, course_name, credit_hours)\n",
    "        self.required_for_major = required_for_major\n",
    "\n",
    "    def __str__(self):\n",
    "        return f\"{super().__str__()} - Required for Major: {self.required_for_major}\"\n",
    "\n",
    "\n",
    "class ElectiveCourse(Course):\n",
    "    def __init__(self, course_code: str, course_name: str, credit_hours: int, elective_type: str):\n",
    "        super().__init__(course_code, course_name, credit_hours)\n",
    "        self.elective_type = elective_type\n",
    "\n",
    "    def __str__(self):\n",
    "        return f\"{super().__str__()} - Elective Type: {self.elective_type}\"\n",
    "\n",
    "\n",
    "\n"
   ]
  },
  {
   "cell_type": "code",
   "execution_count": 22,
   "id": "3e9d25b1-50de-4e8c-82d9-6cb4d50a42b2",
   "metadata": {},
   "outputs": [
    {
     "name": "stdout",
     "output_type": "stream",
     "text": [
      "BCA101: Computer Science (3:credit hours) - Required for Major: True\n",
      "ART201: Art History (3:credit hours) - Elective Type: liberal arts\n"
     ]
    }
   ],
   "source": [
    "if __name__ == \"__main__\":\n",
    "    core_course = CoreCourse(\"BCA101\", \"Computer Science\", 3, True)\n",
    "    elective_course = ElectiveCourse(\"ART201\", \"Art History\", 3, \"liberal arts\")\n",
    "\n",
    "    print(core_course)\n",
    "    print(elective_course)\n"
   ]
  },
  {
   "cell_type": "markdown",
   "id": "99f1f5b1-6056-46b3-ade0-93a661bf4824",
   "metadata": {},
   "source": [
    "## Employee Module"
   ]
  },
  {
   "cell_type": "code",
   "execution_count": 23,
   "id": "b1df9b2b-6451-4120-9341-98c9e59252b6",
   "metadata": {},
   "outputs": [],
   "source": [
    "class Employee:\n",
    "    def __init__(self, name: str, salary: float):\n",
    "        self.name = name\n",
    "        self.salary = salary\n",
    "    def get_name(self) -> str:\n",
    "        return self.name\n",
    "\n",
    "    def get_salary(self) -> float:\n",
    "        return self.salary"
   ]
  },
  {
   "cell_type": "code",
   "execution_count": 24,
   "id": "5467f6a0-db27-4698-9011-ba8c5c0eecb0",
   "metadata": {},
   "outputs": [
    {
     "name": "stdout",
     "output_type": "stream",
     "text": [
      "Employee Name: John\n",
      "Employee Salary: $50,000.00\n"
     ]
    }
   ],
   "source": [
    "if __name__ == \"__main__\":\n",
    "    emp = Employee(\"John\", 50000)\n",
    "    print(f\"Employee Name: {emp.get_name()}\")\n",
    "    print(f\"Employee Salary: ${emp.get_salary():,.2f}\")"
   ]
  },
  {
   "cell_type": "code",
   "execution_count": null,
   "id": "5e937f3a-804c-4728-b27f-c749a11a0259",
   "metadata": {},
   "outputs": [],
   "source": []
  }
 ],
 "metadata": {
  "kernelspec": {
   "display_name": "Python 3 (ipykernel)",
   "language": "python",
   "name": "python3"
  },
  "language_info": {
   "codemirror_mode": {
    "name": "ipython",
    "version": 3
   },
   "file_extension": ".py",
   "mimetype": "text/x-python",
   "name": "python",
   "nbconvert_exporter": "python",
   "pygments_lexer": "ipython3",
   "version": "3.12.7"
  }
 },
 "nbformat": 4,
 "nbformat_minor": 5
}
