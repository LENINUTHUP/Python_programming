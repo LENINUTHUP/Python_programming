{
 "cells": [
  {
   "cell_type": "markdown",
   "id": "16d5580c-2d2d-47c1-902f-501852980a91",
   "metadata": {},
   "source": [
    "# Breast Cancer Classification Assessment\n",
    "\n",
    "## Objective\n",
    "The objective of this assessment is to evaluate the understanding and application of supervised learning techniques to the breast cancer dataset.\n",
    "\n",
    "## 1. Loading and Preprocessing \n"
   ]
  },
  {
   "cell_type": "code",
   "execution_count": 8,
   "id": "8e339f83-5198-4360-adaa-53d242446127",
   "metadata": {},
   "outputs": [],
   "source": [
    "#Load the Dataset\n",
    "import numpy as np\n",
    "import pandas as pd\n",
    "from sklearn.datasets import load_breast_cancer\n",
    "\n",
    "# Load the breast cancer dataset\n",
    "data = load_breast_cancer()\n",
    "X = data.data\n",
    "y = data.target\n",
    "\n",
    "# Convert to DataFrame for easier manipulation\n",
    "df = pd.DataFrame(X, columns=data.feature_names)\n",
    "df['target'] = y\n"
   ]
  },
  {
   "cell_type": "code",
   "execution_count": 5,
   "id": "c7add2da-0d5f-4423-94fe-ef8d0303b065",
   "metadata": {},
   "outputs": [],
   "source": [
    "from sklearn.preprocessing import StandardScaler\n",
    "# Feature scaling\n",
    "scaler = StandardScaler()\n",
    "X_scaled = scaler.fit_transform(X)"
   ]
  },
  {
   "cell_type": "markdown",
   "id": "93f0fd7d-434a-4530-ba77-a07707599433",
   "metadata": {},
   "source": [
    "## 2.Classification Algorithm Implementation"
   ]
  },
  {
   "cell_type": "code",
   "execution_count": 9,
   "id": "671f37d5-c9e4-4ffc-86b7-061ea16d672a",
   "metadata": {},
   "outputs": [],
   "source": [
    "from sklearn.linear_model import LogisticRegression\n",
    "from sklearn.model_selection import train_test_split\n",
    "from sklearn.metrics import accuracy_score\n",
    "\n",
    "#split the data set\n",
    "X_train,X_test,y_train,y_test=train_test_split(X_scaled,y,test_size=0.2,random_state=42)\n",
    "\n",
    "#Logistic regression\n",
    "log_reg=LogisticRegression()\n",
    "log_reg.fit(X_train,y_train)\n",
    "y_pred_log_reg=log_reg.predict(X_test)\n",
    "accuracy_log_reg=accuracy_score(y_test,y_pred_log_reg)"
   ]
  },
  {
   "cell_type": "code",
   "execution_count": 14,
   "id": "bd88da71-5104-45c9-ba25-dbd01f65b93a",
   "metadata": {},
   "outputs": [],
   "source": [
    "from sklearn.tree import DecisionTreeClassifier\n",
    "\n",
    "#Decision Tree Classifier\n",
    "Dt_classifier=DecisionTreeClassifier()\n",
    "Dt_classifier.fit(X_train,y_train)\n",
    "y_pred_Dt=Dt_classifier.predict(X_test)\n",
    "accuracy_dt=accuracy_score(y_pred_Dt,y_test)"
   ]
  },
  {
   "cell_type": "code",
   "execution_count": 15,
   "id": "60cad84a-66cf-408a-8795-276f5cec2859",
   "metadata": {},
   "outputs": [],
   "source": [
    "from sklearn.ensemble import RandomForestClassifier\n",
    "\n",
    "#Random Forest Classifier\n",
    "rf_classifier=RandomForestClassifier()\n",
    "rf_classifier=rf_classifier.fit(X_train,y_train)\n",
    "y_pred_rf=rf_classifier.predict(X_test)\n",
    "accuracy_rf=accuracy_score(y_pred_rf,y_test)"
   ]
  },
  {
   "cell_type": "code",
   "execution_count": 17,
   "id": "b71850a0-ddb6-46d5-acf3-3ab5835b093e",
   "metadata": {},
   "outputs": [],
   "source": [
    "from sklearn.svm import SVC\n",
    "\n",
    "#Support Vector Classifier\n",
    "svm_classifier=SVC()\n",
    "svm_classifier=svm_classifier.fit(X_train,y_train)\n",
    "y_pred_svm=svm_classifier.predict(X_test)\n",
    "accuracy_svm=accuracy_score(y_pred_svm,y_test)"
   ]
  },
  {
   "cell_type": "code",
   "execution_count": 21,
   "id": "e76c55ce-131b-4e51-a9db-ea9771cef911",
   "metadata": {},
   "outputs": [],
   "source": [
    "from sklearn.neighbors import KNeighborsClassifier\n",
    "\n",
    "#KNeighbors Classifier\n",
    "knn_Classifier=KNeighborsClassifier()\n",
    "knn_Classifier.fit(X_train,y_train)\n",
    "y_pred_knn=knn_Classifier.predict(X_test)\n",
    "accuracy_knn=accuracy_score(y_test,y_pred_knn)"
   ]
  },
  {
   "cell_type": "code",
   "execution_count": 22,
   "id": "e55d50f2-08b9-4f3a-8e1f-f04345a5ce98",
   "metadata": {},
   "outputs": [
    {
     "name": "stdout",
     "output_type": "stream",
     "text": [
      "Logistic Regression: 0.9737\n",
      "Decision Tree: 0.9386\n",
      "Random Forest: 0.9649\n",
      "SVM: 0.9737\n",
      "k-NN: 0.9474\n"
     ]
    }
   ],
   "source": [
    "# Compare the accuracies\n",
    "accuracies = {\n",
    "    'Logistic Regression': accuracy_log_reg,\n",
    "    'Decision Tree': accuracy_dt,\n",
    "    'Random Forest': accuracy_rf,\n",
    "    'SVM': accuracy_svm,\n",
    "    'k-NN': accuracy_knn\n",
    "}\n",
    "\n",
    "# Display the results\n",
    "for model, accuracy in accuracies.items():\n",
    "    print(f\"{model}: {accuracy:.4f}\")\n",
    "\n",
    "# Identify the best and worst performing models"
   ]
  },
  {
   "cell_type": "code",
   "execution_count": null,
   "id": "555f476d-4a23-49e9-92b6-8021c2447efa",
   "metadata": {},
   "outputs": [],
   "source": []
  }
 ],
 "metadata": {
  "kernelspec": {
   "display_name": "Python 3 (ipykernel)",
   "language": "python",
   "name": "python3"
  },
  "language_info": {
   "codemirror_mode": {
    "name": "ipython",
    "version": 3
   },
   "file_extension": ".py",
   "mimetype": "text/x-python",
   "name": "python",
   "nbconvert_exporter": "python",
   "pygments_lexer": "ipython3",
   "version": "3.12.7"
  }
 },
 "nbformat": 4,
 "nbformat_minor": 5
}
