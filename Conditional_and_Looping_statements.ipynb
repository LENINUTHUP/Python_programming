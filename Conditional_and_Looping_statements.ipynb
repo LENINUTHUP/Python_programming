{
 "cells": [
  {
   "cell_type": "code",
   "execution_count": 6,
   "id": "4addab69-a73a-495c-9037-bf4531db069b",
   "metadata": {
    "scrolled": true
   },
   "outputs": [
    {
     "name": "stdin",
     "output_type": "stream",
     "text": [
      "Enter the month (1 to 12) : 3\n"
     ]
    },
    {
     "name": "stdout",
     "output_type": "stream",
     "text": [
      "month 3 is :March \n"
     ]
    }
   ],
   "source": [
    "# Exercise 1\n",
    "\n",
    "\n",
    "month_names = {\n",
    "    1: \"January\",\n",
    "    2: \"February\",\n",
    "    3: \"March\",\n",
    "    4: \"April\",\n",
    "    5: \"May\",\n",
    "    6: \"June\",\n",
    "    7: \"July\",\n",
    "    8: \"August\",\n",
    "    9: \"September\",\n",
    "    10: \"October\",\n",
    "    11: \"November\",\n",
    "    12: \"December\"\n",
    "}\n",
    "\n",
    "month_number=int(input(\"Enter the month (1 to 12) :\"))\n",
    "if 1<= month_number <=12:\n",
    "    print(f\"month {month_number} is :{month_names[month_number]} \")\n",
    "else:\n",
    "    print(\"Invalied Input\")"
   ]
  },
  {
   "cell_type": "code",
   "execution_count": 17,
   "id": "6433e911-dccf-4a31-9cfe-07786dba4b64",
   "metadata": {},
   "outputs": [
    {
     "name": "stdin",
     "output_type": "stream",
     "text": [
      "enter your age: 67\n"
     ]
    },
    {
     "name": "stdout",
     "output_type": "stream",
     "text": [
      "Your ticket costs £2.00\n"
     ]
    }
   ],
   "source": [
    "#Exercise 2\n",
    "\n",
    "\n",
    "age=int(input(\"enter your age:\"))\n",
    "full_ticket=6\n",
    "if age < 16:\n",
    "    ticket_price = full_price / 2\n",
    "elif age >= 60:\n",
    "    ticket_price = full_price / 3\n",
    "else:\n",
    "    ticket_price = full_price\n",
    "\n",
    "print(f\"Your ticket costs £{ticket_price:.2f}\")\n",
    "          "
   ]
  },
  {
   "cell_type": "code",
   "execution_count": 4,
   "id": "c1168bb9-f2be-4a28-a471-7e099ac2b2d7",
   "metadata": {},
   "outputs": [
    {
     "name": "stdin",
     "output_type": "stream",
     "text": [
      "Enter your weight in (kg):  56\n",
      "Enter your height in (m):  1.76\n"
     ]
    },
    {
     "name": "stdout",
     "output_type": "stream",
     "text": [
      "Your BMI is: 18.08\n",
      "You are in the “Underweight” range.\n"
     ]
    }
   ],
   "source": [
    "#Exercise 3\n",
    "\n",
    "# BodyMassIndex.py\n",
    "weight = float(input(\"Enter your weight in (kg): \"))\n",
    "height = float(input(\"Enter your height in (m): \"))\n",
    "\n",
    "bmi = weight / (height ** 2)\n",
    "print(f\"Your BMI is: {bmi:.2f}\")\n",
    "\n",
    "if bmi < 18.5:\n",
    "    status = \"Underweight\"\n",
    "elif 18.5 <= bmi < 25:\n",
    "    status = \"Normal\"\n",
    "elif 25 <= bmi < 30:\n",
    "    status = \"Overweight\"\n",
    "else:\n",
    "    status = \"Obese\"\n",
    "\n",
    "print(f\"You are in the “{status}” range.\")\n"
   ]
  },
  {
   "cell_type": "code",
   "execution_count": 5,
   "id": "175471c0-1a83-4c03-8ea9-47102449f41d",
   "metadata": {},
   "outputs": [
    {
     "name": "stdin",
     "output_type": "stream",
     "text": [
      "Enter the first number: 5\n",
      "Enter the second number: 8\n",
      "Enter the third number: 1\n"
     ]
    },
    {
     "name": "stdout",
     "output_type": "stream",
     "text": [
      "The greatest number is : 8.0\n"
     ]
    }
   ],
   "source": [
    "#Exercise 4: Greatest of Three Numbers\n",
    "\n",
    "num_1=float(input(\"Enter the first number:\"))\n",
    "num_2=float(input(\"Enter the second number:\"))\n",
    "num_3=float(input(\"Enter the third number:\"))\n",
    "\n",
    "Greatest=max(num_1,num_2,num_3)\n",
    "print(\"The greatest number is :\",Greatest)"
   ]
  },
  {
   "cell_type": "code",
   "execution_count": 6,
   "id": "74beb963-6bf9-4f6f-a463-72b14da384a9",
   "metadata": {},
   "outputs": [
    {
     "name": "stdin",
     "output_type": "stream",
     "text": [
      "Enter a number to find its factorial:  5\n"
     ]
    },
    {
     "name": "stdout",
     "output_type": "stream",
     "text": [
      "The factorial of 5 is: 120\n"
     ]
    }
   ],
   "source": [
    "#Exercise 5\n",
    "\n",
    "# Factorial.py\n",
    "number = int(input(\"Enter a number to find its factorial: \"))\n",
    "\n",
    "factorial = 1\n",
    "for i in range(1, number + 1):\n",
    "    factorial *= i\n",
    "\n",
    "print(f\"The factorial of {number} is: {factorial}\")"
   ]
  },
  {
   "cell_type": "code",
   "execution_count": 8,
   "id": "f8fa53d7-aacd-48a0-a15f-260c42337605",
   "metadata": {},
   "outputs": [
    {
     "name": "stdin",
     "output_type": "stream",
     "text": [
      "Enter a number to reverse:  13\n"
     ]
    },
    {
     "name": "stdout",
     "output_type": "stream",
     "text": [
      "The reversed number is: 31\n"
     ]
    }
   ],
   "source": [
    "#Exercise 6\n",
    "\n",
    "# ReverseNumber.py\n",
    "number = int(input(\"Enter a number to reverse: \"))\n",
    "reversed_number = 0\n",
    "\n",
    "while number > 0:\n",
    "    digit = number % 10\n",
    "    reversed_number = reversed_number * 10 + digit\n",
    "    number //= 10\n",
    "\n",
    "print(f\"The reversed number is: {reversed_number}\")"
   ]
  },
  {
   "cell_type": "code",
   "execution_count": 9,
   "id": "edee4341-9587-49ba-bcc4-5874767950f5",
   "metadata": {},
   "outputs": [
    {
     "name": "stdin",
     "output_type": "stream",
     "text": [
      "Enter a number to find its multiples:  5\n"
     ]
    },
    {
     "name": "stdout",
     "output_type": "stream",
     "text": [
      "Multiples of 5:\n",
      "5\n",
      "10\n",
      "15\n",
      "20\n",
      "25\n",
      "30\n",
      "35\n",
      "40\n",
      "45\n",
      "50\n"
     ]
    }
   ],
   "source": [
    "#Exercise 7\n",
    "\n",
    "# Multiples.py\n",
    "number = int(input(\"Enter a number to find its multiples: \"))\n",
    "count = 1\n",
    "\n",
    "print(f\"Multiples of {number}:\")\n",
    "while count <= 10:\n",
    "    print(number * count)\n",
    "    count += 1"
   ]
  },
  {
   "cell_type": "code",
   "execution_count": 13,
   "id": "98dac532-e356-4323-8acb-e2e1c00d629e",
   "metadata": {},
   "outputs": [
    {
     "name": "stdin",
     "output_type": "stream",
     "text": [
      "Enter a value (or 'done' to finish):  value\n"
     ]
    },
    {
     "name": "stdout",
     "output_type": "stream",
     "text": [
      "value\n"
     ]
    },
    {
     "name": "stdin",
     "output_type": "stream",
     "text": [
      "Enter a value (or 'done' to finish):  done\n"
     ]
    },
    {
     "name": "stdout",
     "output_type": "stream",
     "text": [
      "Done\n"
     ]
    }
   ],
   "source": [
    "#Exercise 8\n",
    "\n",
    "\n",
    "# InputUntilDone.py\n",
    "while True:\n",
    "    user_input = input(\"Enter a value (or 'done' to finish): \")\n",
    "    if user_input.lower() == 'done':\n",
    "        print(\"Done\")\n",
    "        break\n",
    "    print(user_input)"
   ]
  },
  {
   "cell_type": "code",
   "execution_count": 14,
   "id": "ec0f0ee7-b8b0-4d7f-ad06-7e5dd962dbf2",
   "metadata": {},
   "outputs": [
    {
     "name": "stdout",
     "output_type": "stream",
     "text": [
      "1\n",
      "2\n",
      "Fizz\n",
      "4\n",
      "Buzz\n",
      "Fizz\n",
      "7\n",
      "8\n",
      "Fizz\n",
      "Buzz\n"
     ]
    }
   ],
   "source": [
    "#Exercise 9\n",
    "\n",
    "\n",
    "# FizzBuzz.py\n",
    "for i in range(1, 11):\n",
    "    if i % 3 == 0 and i % 5 == 0:\n",
    "        print(\"FizzBuzz\")\n",
    "    elif i % 3 == 0:\n",
    "        print(\"Fizz\")\n",
    "    elif i % 5 == 0:\n",
    "        print(\"Buzz\")\n",
    "    else:\n",
    "        print(i)"
   ]
  },
  {
   "cell_type": "code",
   "execution_count": 15,
   "id": "0b262657-3ac9-4a79-96e5-de6cade6a4b6",
   "metadata": {},
   "outputs": [
    {
     "name": "stdout",
     "output_type": "stream",
     "text": [
      "5 4 3 2 1 \n",
      "4 3 2 1 \n",
      "3 2 1 \n",
      "2 1 \n",
      "1 \n"
     ]
    }
   ],
   "source": [
    "#Exercise 10\n",
    "\n",
    "\n",
    "# PrintPattern.py\n",
    "n = 5\n",
    "for i in range(n, 0, -1):\n",
    "    for j in range(i, 0, -1):\n",
    "        print(j, end=' ')\n",
    "    print()"
   ]
  },
  {
   "cell_type": "code",
   "execution_count": null,
   "id": "33113a48-b01f-4924-a504-77ba68254d12",
   "metadata": {},
   "outputs": [],
   "source": []
  }
 ],
 "metadata": {
  "kernelspec": {
   "display_name": "Python 3 (ipykernel)",
   "language": "python",
   "name": "python3"
  },
  "language_info": {
   "codemirror_mode": {
    "name": "ipython",
    "version": 3
   },
   "file_extension": ".py",
   "mimetype": "text/x-python",
   "name": "python",
   "nbconvert_exporter": "python",
   "pygments_lexer": "ipython3",
   "version": "3.12.7"
  }
 },
 "nbformat": 4,
 "nbformat_minor": 5
}
