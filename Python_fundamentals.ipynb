{
 "cells": [
  {
   "cell_type": "code",
   "execution_count": 1,
   "id": "5cc5b3c7-1888-4292-bee2-a2ff08f0aa8f",
   "metadata": {},
   "outputs": [
    {
     "name": "stdout",
     "output_type": "stream",
     "text": [
      "Name:Lenin Std No:S0016 Email:leninuthup@gmail.com\n"
     ]
    }
   ],
   "source": [
    "# Exercise 1\n",
    "print(\"Name:Lenin\",\"Std No:S0016\",\"Email:leninuthup@gmail.com\")"
   ]
  },
  {
   "cell_type": "code",
   "execution_count": 9,
   "id": "edc7feb0-eb6b-4a17-a3fd-a7c34e6c6950",
   "metadata": {},
   "outputs": [
    {
     "name": "stdout",
     "output_type": "stream",
     "text": [
      "Name:Lenin\n",
      "Std No:S0016\n",
      "Email:leninuthup@gmail.com\n"
     ]
    }
   ],
   "source": [
    "# Exercise 2\n",
    "print(\"Name:Lenin\\nStd No:S0016\\nEmail:leninuthup@gmail.com\")"
   ]
  },
  {
   "cell_type": "code",
   "execution_count": 12,
   "id": "b54c17ab-801c-4a30-a92c-2612f834d3be",
   "metadata": {},
   "outputs": [
    {
     "name": "stdout",
     "output_type": "stream",
     "text": [
      "Addition of two numbers(14, 7): 21\n",
      "Substraction of two numbers(14, 7): 7\n",
      "Multiplication of two numbers(14, 7): 98\n",
      "Division of two numbers(14, 7): 2.0\n"
     ]
    }
   ],
   "source": [
    "# Exercise 3\n",
    "Num1=14\n",
    "Num2=7\n",
    "print(f\"Addition of two numbers{Num1,Num2}:\",Num1+Num2)\n",
    "print(f\"Substraction of two numbers{Num1,Num2}:\",Num1-Num2)\n",
    "print(f\"Multiplication of two numbers{Num1,Num2}:\",Num1*Num2)\n",
    "print(f\"Division of two numbers{Num1,Num2}:\",Num1/Num2)\n"
   ]
  },
  {
   "cell_type": "code",
   "execution_count": 15,
   "id": "65811087-4c4c-4d0a-86cf-9952fe8dfa88",
   "metadata": {},
   "outputs": [
    {
     "name": "stdout",
     "output_type": "stream",
     "text": [
      "1\n",
      "2\n",
      "3\n",
      "4\n",
      "5\n"
     ]
    }
   ],
   "source": [
    "# Exercise 4\n",
    "for i in range(1,6):\n",
    "    print(i)"
   ]
  },
  {
   "cell_type": "code",
   "execution_count": 19,
   "id": "c7e9dcb8-bbd0-4e39-88d4-cd8dd90c0bd6",
   "metadata": {},
   "outputs": [
    {
     "name": "stdout",
     "output_type": "stream",
     "text": [
      "\"SDK\" stands for \"Software Development Kit\", whereas \"IDE\" stands for \"Integrated Development Environment\".\n"
     ]
    }
   ],
   "source": [
    "# Exercise 5\n",
    "print(\"\\\"SDK\\\" stands for \\\"Software Development Kit\\\", whereas \\\"IDE\\\" stands for \\\"Integrated Development Environment\\\".\")"
   ]
  },
  {
   "cell_type": "code",
   "execution_count": 20,
   "id": "a318bfff-5f43-4089-9071-531be9d0fbc0",
   "metadata": {},
   "outputs": [
    {
     "name": "stdout",
     "output_type": "stream",
     "text": [
      "python is an \"awesome\" language.\n",
      "python\n",
      "\t2023\n",
      "I'm from Entri\n",
      "5\n",
      "e\n",
      "Entri\n",
      "2023\n",
      "Entr2023\n",
      "Entri*20"
     ]
    }
   ],
   "source": [
    "# Exercise 6\n",
    "print(\"python is an \\\"awesome\\\" language.\")\n",
    "print(\"python\\n\\t2023\")\n",
    "print('I\\'m from Entri.\\b')\n",
    "print(\"\\65\")  \n",
    "print(\"\\x65\")\n",
    "print(\"Entri\", \"2023\", sep=\"\\n\")\n",
    "print(\"Entri\", \"2023\", sep=\"\\b\")\n",
    "print(\"Entri\", \"2023\", sep=\"*\", end=\"\\b\\b\\b\\b\")"
   ]
  },
  {
   "cell_type": "code",
   "execution_count": 25,
   "id": "cf018183-27a1-43c9-a727-706e56dda1c4",
   "metadata": {},
   "outputs": [
    {
     "name": "stdout",
     "output_type": "stream",
     "text": [
      "datatype of num: <class 'int'>\n",
      "datatype of textnum: <class 'str'>\n",
      "datatype of decimal: <class 'float'>\n",
      "sum of variables: 178\n",
      "datatype of sum_of_variables: <class 'int'>\n"
     ]
    }
   ],
   "source": [
    "#Exercise 7\n",
    "num=23 \n",
    "textnum=\"57\" \n",
    "decimal=98.3\n",
    "print(\"datatype of num:\",type(num))\n",
    "print(\"datatype of textnum:\",type(textnum))\n",
    "print(\"datatype of decimal:\",type(decimal))\n",
    "\n",
    "sum_of_variable= num + int(textnum) + int(decimal)\n",
    "print(\"sum of variables:\",sum_of_variable)\n",
    "print(\"datatype of sum_of_variables:\",type(sum_of_variable))"
   ]
  },
  {
   "cell_type": "code",
   "execution_count": 26,
   "id": "e5f6d6a6-55c4-475e-a50c-5bb7e5690c6d",
   "metadata": {},
   "outputs": [
    {
     "name": "stdout",
     "output_type": "stream",
     "text": [
      "The total number of minutes in a year: 525600\n"
     ]
    }
   ],
   "source": [
    "#Exercse 8\n",
    "days_in_a_year=365\n",
    "hours_in_a_day=24\n",
    "minute_in_a_hour=60\n",
    "total_number_of_minutes_in_a_year=days_in_a_year*hours_in_a_day*minute_in_a_hour\n",
    "print(\"The total number of minutes in a year:\",total_number_of_minutes_in_a_year)\n"
   ]
  },
  {
   "cell_type": "code",
   "execution_count": 28,
   "id": "0b75acd9-97a8-4018-bf59-2721efe898dc",
   "metadata": {},
   "outputs": [
    {
     "name": "stdin",
     "output_type": "stream",
     "text": [
      "Enter your name: lenin\n"
     ]
    },
    {
     "name": "stdout",
     "output_type": "stream",
     "text": [
      "Hey lenin ,welcome to python programming\n"
     ]
    }
   ],
   "source": [
    "#Exercise 9\n",
    "name=input(\"Enter your name:\")\n",
    "print(f\"Hey {name} ,welcome to python programming\")"
   ]
  },
  {
   "cell_type": "code",
   "execution_count": 30,
   "id": "de2d61f2-b3bc-41b3-9980-90f21e34ba73",
   "metadata": {},
   "outputs": [
    {
     "name": "stdin",
     "output_type": "stream",
     "text": [
      "Enter amount in pound: 5\n"
     ]
    },
    {
     "name": "stdout",
     "output_type": "stream",
     "text": [
      "5.0 pound is 6.2 dollers\n"
     ]
    }
   ],
   "source": [
    "#Exercise 10\n",
    "pound=float(input(\"Enter amount in pound:\"))\n",
    "doller=pound*1.24\n",
    "print(f\"{pound} pound is {doller} dollers\")\n"
   ]
  },
  {
   "cell_type": "code",
   "execution_count": null,
   "id": "9f2537d3-0f4f-458a-a2ef-cd61aa989c2e",
   "metadata": {},
   "outputs": [],
   "source": []
  }
 ],
 "metadata": {
  "kernelspec": {
   "display_name": "Python 3 (ipykernel)",
   "language": "python",
   "name": "python3"
  },
  "language_info": {
   "codemirror_mode": {
    "name": "ipython",
    "version": 3
   },
   "file_extension": ".py",
   "mimetype": "text/x-python",
   "name": "python",
   "nbconvert_exporter": "python",
   "pygments_lexer": "ipython3",
   "version": "3.12.7"
  }
 },
 "nbformat": 4,
 "nbformat_minor": 5
}
