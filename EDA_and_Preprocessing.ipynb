{
 "cells": [
  {
   "cell_type": "markdown",
   "id": "2e714b60-30b6-48b1-89b4-6b83377628aa",
   "metadata": {},
   "source": [
    "# Data Preprocessing Project\n",
    "\n",
    "## Overview\n",
    "\n",
    "The objective of this project is to design and implement a robust data preprocessing system that addresses common challenges such as missing values, outliers, inconsistent formatting, and noise. By performing effective data preprocessing, the project aims to enhance the quality, reliability, and usefulness of the data for machine learning applications.\n",
    "\n",
    "## Dataset\n",
    "\n",
    "The dataset used in this project can be found at the following link:\n",
    "\n",
    "- [Employee Dataset](https://drive.google.com/file/d/1F3lRf32JM8ejnXq-Cbf9y7fa57zSHGz_/view?usp=sharing)\n",
    "\n",
    "## Key Components\n",
    "\n",
    "The project is structured into several key components:\n",
    "\n",
    "### 1. Data Exploration\n",
    "\n",
    "- Explore the dataset to understand its structure and contents.\n",
    "- List unique values in each feature and their lengths.\n",
    "- Perform statistical analysis and rename columns for clarity.\n",
    "\n",
    "### 2. Data Cleaning\n",
    "\n",
    "- Identify and treat missing values appropriately.\n",
    "- Remove duplicate rows from the dataset.\n",
    "- Detect and analyze outliers.\n",
    "- Replace inappropriate values (e.g., replacing `0` in the age column with `NaN`).\n",
    "- Treat null values in all columns using appropriate measures (e.g., replacing with mean, median, or mode).\n",
    "\n",
    "### 3. Data Analysis\n",
    "\n",
    "- Filter the dataset for entries where age > 40 and salary < 5000.\n",
    "- Visualize the relationship between age and salary using scatter plots.\n",
    "- Count the number of people from each place and represent this visually using bar charts.\n",
    "\n",
    "### 4. Data Encoding\n",
    "\n",
    "- Convert categorical variables into numerical representations using techniques such as one-hot encoding and label encoding.\n",
    "\n",
    "### 5. Feature Scaling\n",
    "\n",
    "- Perform feature scaling using StandardScaler and MinMaxScaler to prepare the data for machine learning algorithms.\n",
    "\n",
    "## Requirements\n",
    "\n",
    "To run this project, you will need the following Python libraries:\n",
    "\n",
    "- `pandas`\n",
    "- `numpy`\n",
    "- `matplotlib`\n",
    "- `seaborn`\n",
    "- `scikit-learn`\n",
    "\n",
    "You can install these libraries using pip:\n",
    "\n",
    "```bash\n",
    "pip install pandas numpy matplotlib seaborn scikit-learn\n",
    "```\n",
    "\n",
    "## Usage\n",
    "\n",
    "1. Clone the repository or download the project files.\n",
    "2. Ensure you have the required libraries installed.\n",
    "3. Run the Jupyter Notebook or Python script to execute the data preprocessing steps.\n",
    "\n",
    "## Conclusion\n",
    "\n",
    "This project provides a comprehensive approach to data preprocessing, ensuring that the data is clean, reliable, and ready for machine learning applications. By following the outlined steps, users can effectively handle common data challenges and improve the quality of their datasets.\n",
    "\n"
   ]
  },
  {
   "cell_type": "code",
   "execution_count": 1,
   "id": "fac6b480-ca71-405e-832e-fce306777989",
   "metadata": {},
   "outputs": [
    {
     "name": "stdout",
     "output_type": "stream",
     "text": [
      "   Company   Age  Salary     Place Country  Gender\n",
      "0      TCS  20.0     NaN   Chennai   India       0\n",
      "1  Infosys  30.0     NaN    Mumbai   India       0\n",
      "2      TCS  35.0  2300.0  Calcutta   India       0\n",
      "3  Infosys  40.0  3000.0     Delhi   India       0\n",
      "4      TCS  23.0  4000.0    Mumbai   India       0\n"
     ]
    }
   ],
   "source": [
    "import pandas as pd\n",
    "import numpy as np\n",
    "import matplotlib.pyplot as plt\n",
    "import seaborn as sns\n",
    "from sklearn.preprocessing import StandardScaler, MinMaxScaler\n",
    "\n",
    "# Load the dataset\n",
    "url = 'https://drive.google.com/uc?id=1F3lRf32JM8ejnXq-Cbf9y7fa57zSHGz_'\n",
    "data = pd.read_csv(url)\n",
    "\n",
    "# Display the first few rows of the dataset\n",
    "print(data.head())"
   ]
  },
  {
   "cell_type": "code",
   "execution_count": 4,
   "id": "aedfb0fc-7c3b-4f6e-9022-7a0d91e988ef",
   "metadata": {},
   "outputs": [
    {
     "name": "stdout",
     "output_type": "stream",
     "text": [
      "<class 'pandas.core.frame.DataFrame'>\n",
      "RangeIndex: 148 entries, 0 to 147\n",
      "Data columns (total 6 columns):\n",
      " #   Column   Non-Null Count  Dtype  \n",
      "---  ------   --------------  -----  \n",
      " 0   Company  140 non-null    object \n",
      " 1   Age      130 non-null    float64\n",
      " 2   Salary   124 non-null    float64\n",
      " 3   Place    134 non-null    object \n",
      " 4   Country  148 non-null    object \n",
      " 5   Gender   148 non-null    int64  \n",
      "dtypes: float64(2), int64(1), object(3)\n",
      "memory usage: 7.1+ KB\n"
     ]
    }
   ],
   "source": [
    "data.info()"
   ]
  },
  {
   "cell_type": "code",
   "execution_count": 3,
   "id": "a0ed86d8-af5c-451c-b836-259c4d8c0608",
   "metadata": {},
   "outputs": [
    {
     "data": {
      "text/html": [
       "<div>\n",
       "<style scoped>\n",
       "    .dataframe tbody tr th:only-of-type {\n",
       "        vertical-align: middle;\n",
       "    }\n",
       "\n",
       "    .dataframe tbody tr th {\n",
       "        vertical-align: top;\n",
       "    }\n",
       "\n",
       "    .dataframe thead th {\n",
       "        text-align: right;\n",
       "    }\n",
       "</style>\n",
       "<table border=\"1\" class=\"dataframe\">\n",
       "  <thead>\n",
       "    <tr style=\"text-align: right;\">\n",
       "      <th></th>\n",
       "      <th>Age</th>\n",
       "      <th>Salary</th>\n",
       "      <th>Gender</th>\n",
       "    </tr>\n",
       "  </thead>\n",
       "  <tbody>\n",
       "    <tr>\n",
       "      <th>count</th>\n",
       "      <td>130.000000</td>\n",
       "      <td>124.000000</td>\n",
       "      <td>148.000000</td>\n",
       "    </tr>\n",
       "    <tr>\n",
       "      <th>mean</th>\n",
       "      <td>30.484615</td>\n",
       "      <td>5312.467742</td>\n",
       "      <td>0.222973</td>\n",
       "    </tr>\n",
       "    <tr>\n",
       "      <th>std</th>\n",
       "      <td>11.096640</td>\n",
       "      <td>2573.764683</td>\n",
       "      <td>0.417654</td>\n",
       "    </tr>\n",
       "    <tr>\n",
       "      <th>min</th>\n",
       "      <td>0.000000</td>\n",
       "      <td>1089.000000</td>\n",
       "      <td>0.000000</td>\n",
       "    </tr>\n",
       "    <tr>\n",
       "      <th>25%</th>\n",
       "      <td>22.000000</td>\n",
       "      <td>3030.000000</td>\n",
       "      <td>0.000000</td>\n",
       "    </tr>\n",
       "    <tr>\n",
       "      <th>50%</th>\n",
       "      <td>32.500000</td>\n",
       "      <td>5000.000000</td>\n",
       "      <td>0.000000</td>\n",
       "    </tr>\n",
       "    <tr>\n",
       "      <th>75%</th>\n",
       "      <td>37.750000</td>\n",
       "      <td>8000.000000</td>\n",
       "      <td>0.000000</td>\n",
       "    </tr>\n",
       "    <tr>\n",
       "      <th>max</th>\n",
       "      <td>54.000000</td>\n",
       "      <td>9876.000000</td>\n",
       "      <td>1.000000</td>\n",
       "    </tr>\n",
       "  </tbody>\n",
       "</table>\n",
       "</div>"
      ],
      "text/plain": [
       "              Age       Salary      Gender\n",
       "count  130.000000   124.000000  148.000000\n",
       "mean    30.484615  5312.467742    0.222973\n",
       "std     11.096640  2573.764683    0.417654\n",
       "min      0.000000  1089.000000    0.000000\n",
       "25%     22.000000  3030.000000    0.000000\n",
       "50%     32.500000  5000.000000    0.000000\n",
       "75%     37.750000  8000.000000    0.000000\n",
       "max     54.000000  9876.000000    1.000000"
      ]
     },
     "execution_count": 3,
     "metadata": {},
     "output_type": "execute_result"
    }
   ],
   "source": [
    "# Explore the data\n",
    "data.describe()"
   ]
  },
  {
   "cell_type": "code",
   "execution_count": 5,
   "id": "29bc7d09-915c-4afe-8b82-e829433324ad",
   "metadata": {},
   "outputs": [
    {
     "data": {
      "text/plain": [
       "Company     8\n",
       "Age        18\n",
       "Salary     24\n",
       "Place      14\n",
       "Country     0\n",
       "Gender      0\n",
       "dtype: int64"
      ]
     },
     "execution_count": 5,
     "metadata": {},
     "output_type": "execute_result"
    }
   ],
   "source": [
    "data.isnull().sum()"
   ]
  },
  {
   "cell_type": "code",
   "execution_count": 10,
   "id": "89a8ca60-dac8-4126-94e9-3af311176aee",
   "metadata": {},
   "outputs": [],
   "source": [
    "data = data.drop_duplicates()\n",
    "\n",
    "data['Age'] = data['Age'].replace(0, np.nan)\n",
    "\n",
    "#Treat null values (using median for numerical columns only)\n",
    "numeric_cols = data.select_dtypes(include=[np.number]).columns\n",
    "data[numeric_cols] = data[numeric_cols].fillna(data[numeric_cols].median())\n",
    "\n",
    "data = data.dropna(subset=['Company', 'Place'])"
   ]
  },
  {
   "cell_type": "code",
   "execution_count": 11,
   "id": "39b8e976-a22e-49cd-bc5c-482a524fc573",
   "metadata": {},
   "outputs": [
    {
     "data": {
      "text/plain": [
       "Company    0\n",
       "Age        0\n",
       "Salary     0\n",
       "Place      0\n",
       "Country    0\n",
       "Gender     0\n",
       "dtype: int64"
      ]
     },
     "execution_count": 11,
     "metadata": {},
     "output_type": "execute_result"
    }
   ],
   "source": [
    "data.isnull().sum()"
   ]
  },
  {
   "cell_type": "code",
   "execution_count": 13,
   "id": "0df9c3f3-4c0a-49d6-a4c6-d628d845e0a0",
   "metadata": {},
   "outputs": [
    {
     "name": "stdout",
     "output_type": "stream",
     "text": [
      "\n",
      "Outliers in Salary:\n",
      "Empty DataFrame\n",
      "Columns: [Company, Age, Salary, Place, Country, Gender]\n",
      "Index: []\n"
     ]
    }
   ],
   "source": [
    "# Find outliers using IQR method\n",
    "Q1 = data['Salary'].quantile(0.25)\n",
    "Q3 = data['Salary'].quantile(0.75)\n",
    "IQR = Q3 - Q1\n",
    "outlier_condition = (data['Salary'] < (Q1 - 1.5 * IQR)) | (data['Salary'] > (Q3 + 1.5 * IQR))\n",
    "outliers = data[outlier_condition]\n",
    "\n",
    "print(\"\\nOutliers in Salary:\")\n",
    "print(outliers)"
   ]
  },
  {
   "cell_type": "code",
   "execution_count": 17,
   "id": "04445733-760e-4b36-8824-9b00b5f9ba89",
   "metadata": {},
   "outputs": [
    {
     "name": "stdout",
     "output_type": "stream",
     "text": [
      "\n",
      "Filtered Data (Age > 40 and Salary < 5000):\n",
      "     Company   Age  Salary      Place Country  Gender\n",
      "21   Infosys  50.0  3184.0      Delhi   India       0\n",
      "32   Infosys  45.0  4034.0   Calcutta   India       0\n",
      "39   Infosys  41.0  3000.0     Mumbai   India       0\n",
      "50   Infosys  41.0  3000.0    Chennai   India       0\n",
      "57   Infosys  51.0  3184.0  Hyderabad   India       0\n",
      "68   Infosys  43.0  4034.0     Mumbai   India       0\n",
      "75   Infosys  44.0  3000.0     Cochin   India       0\n",
      "86   Infosys  41.0  3000.0      Delhi   India       0\n",
      "93   Infosys  54.0  3184.0     Mumbai   India       0\n",
      "104  Infosys  44.0  4034.0      Delhi   India       0\n",
      "122  Infosys  44.0  3234.0     Mumbai   India       0\n",
      "129  Infosys  50.0  3184.0   Calcutta   India       0\n",
      "138      CTS  44.0  3033.0     Cochin   India       0\n",
      "140  Infosys  44.0  4034.0  Hyderabad   India       0\n",
      "145  Infosys  44.0  4034.0      Delhi   India       1\n"
     ]
    },
    {
     "data": {
      "image/png": "[encoded data removed]",
      "text/plain": [
       "<Figure size 1000x600 with 1 Axes>"
      ]
     },
     "metadata": {},
     "output_type": "display_data"
    }
   ],
   "source": [
    "# Filter data with age > 40 and salary < 5000\n",
    "filtered_data = data[(data['Age'] > 40) & (data['Salary'] < 5000)]\n",
    "print(\"\\nFiltered Data (Age > 40 and Salary < 5000):\")\n",
    "print(filtered_data)\n",
    "\n",
    "# Plotting age vs salary\n",
    "plt.figure(figsize=(10, 6))\n",
    "sns.scatterplot(data=filtered_data, x='Age', y='Salary')\n",
    "plt.title('Age vs Salary')\n",
    "plt.xlabel('Age')\n",
    "plt.ylabel('Salary')\n",
    "plt.show()\n",
    "\n"
   ]
  },
  {
   "cell_type": "code",
   "execution_count": 18,
   "id": "1cd83839-c82f-4fc8-861a-5c2a0ae7871d",
   "metadata": {},
   "outputs": [
    {
     "data": {
      "image/png": "[encoded data removed]",
      "text/plain": [
       "<Figure size 1000x600 with 1 Axes>"
      ]
     },
     "metadata": {},
     "output_type": "display_data"
    }
   ],
   "source": [
    "# Count number of people from each place\n",
    "place_counts = data['Place'].value_counts()\n",
    "plt.figure(figsize=(10, 6))\n",
    "sns.barplot(x=place_counts.index, y=place_counts.values)\n",
    "plt.title('Number of People from Each Place')\n",
    "plt.xlabel('Place')\n",
    "plt.ylabel('Count')\n",
    "plt.xticks(rotation=45)\n",
    "plt.show()"
   ]
  },
  {
   "cell_type": "code",
   "execution_count": 19,
   "id": "97fcc344-7248-4c18-a87a-0fa2e74a5b12",
   "metadata": {},
   "outputs": [
    {
     "name": "stdout",
     "output_type": "stream",
     "text": [
      "\n",
      "Encoded Data:\n",
      "    Age  Salary  Gender  Company_Congnizant  Company_Infosys  \\\n",
      "0  20.0  5000.0       0               False            False   \n",
      "1  30.0  5000.0       0               False             True   \n",
      "2  35.0  2300.0       0               False            False   \n",
      "3  40.0  3000.0       0               False             True   \n",
      "4  23.0  4000.0       0               False            False   \n",
      "\n",
      "   Company_Infosys Pvt Lmt  Company_TCS  Company_Tata Consultancy Services  \\\n",
      "0                    False         True                              False   \n",
      "1                    False        False                              False   \n",
      "2                    False         True                              False   \n",
      "3                    False        False                              False   \n",
      "4                    False         True                              False   \n",
      "\n",
      "   Place_Calcutta  Place_Chennai  Place_Cochin  Place_Delhi  Place_Hyderabad  \\\n",
      "0           False           True         False        False            False   \n",
      "1           False          False         False        False            False   \n",
      "2            True          False         False        False            False   \n",
      "3           False          False         False         True            False   \n",
      "4           False          False         False        False            False   \n",
      "\n",
      "   Place_Mumbai  Place_Nagpur  Place_Noida  Place_Podicherry  Place_Pune  \n",
      "0         False         False        False             False       False  \n",
      "1          True         False        False             False       False  \n",
      "2         False         False        False             False       False  \n",
      "3         False         False        False             False       False  \n",
      "4          True         False        False             False       False  \n"
     ]
    }
   ],
   "source": [
    "# Convert categorical variables into numerical representations\n",
    "data_encoded = pd.get_dummies(data, drop_first=True)\n",
    "print(\"\\nEncoded Data:\")\n",
    "print(data_encoded.head())"
   ]
  },
  {
   "cell_type": "code",
   "execution_count": 21,
   "id": "9819e166-97ab-4b93-9ef4-2aa4de8fbc5c",
   "metadata": {},
   "outputs": [
    {
     "name": "stdout",
     "output_type": "stream",
     "text": [
      "\n",
      "Scaled Data:\n",
      "        Age    Salary  Gender  Company_Congnizant  Company_Infosys  \\\n",
      "0  0.081081  0.445089       0               False            False   \n",
      "1  0.351351  0.445089       0               False             True   \n",
      "2  0.486486  0.137817       0               False            False   \n",
      "3  0.621622  0.217480       0               False             True   \n",
      "4  0.162162  0.331285       0               False            False   \n",
      "\n",
      "   Company_Infosys Pvt Lmt  Company_TCS  Company_Tata Consultancy Services  \\\n",
      "0                    False         True                              False   \n",
      "1                    False        False                              False   \n",
      "2                    False         True                              False   \n",
      "3                    False        False                              False   \n",
      "4                    False         True                              False   \n",
      "\n",
      "   Place_Calcutta  Place_Chennai  Place_Cochin  Place_Delhi  Place_Hyderabad  \\\n",
      "0           False           True         False        False            False   \n",
      "1           False          False         False        False            False   \n",
      "2            True          False         False        False            False   \n",
      "3           False          False         False         True            False   \n",
      "4           False          False         False        False            False   \n",
      "\n",
      "   Place_Mumbai  Place_Nagpur  Place_Noida  Place_Podicherry  Place_Pune  \n",
      "0         False         False        False             False       False  \n",
      "1          True         False        False             False       False  \n",
      "2         False         False        False             False       False  \n",
      "3         False         False        False             False       False  \n",
      "4          True         False        False             False       False  \n"
     ]
    }
   ],
   "source": [
    "# Feature Scaling\n",
    "scaler_standard = StandardScaler()\n",
    "scaler_minmax = MinMaxScaler()\n",
    "\n",
    "# Assuming 'age' and 'salary' are the features to scale\n",
    "data_encoded[['Age', 'Salary']] = scaler_standard.fit_transform(data_encoded[['Age', 'Salary']])\n",
    "data_encoded[['Age', 'Salary']] = scaler_minmax.fit_transform(data_encoded[['Age', 'Salary']])\n",
    "\n",
    "print(\"\\nScaled Data:\")\n",
    "print(data_encoded.head())"
   ]
  },
  {
   "cell_type": "code",
   "execution_count": null,
   "id": "5fa78f7a-4e1a-4375-81f3-2c3c4428bd6f",
   "metadata": {},
   "outputs": [],
   "source": []
  }
 ],
 "metadata": {
  "kernelspec": {
   "display_name": "Python 3 (ipykernel)",
   "language": "python",
   "name": "python3"
  },
  "language_info": {
   "codemirror_mode": {
    "name": "ipython",
    "version": 3
   },
   "file_extension": ".py",
   "mimetype": "text/x-python",
   "name": "python",
   "nbconvert_exporter": "python",
   "pygments_lexer": "ipython3",
   "version": "3.12.7"
  }
 },
 "nbformat": 4,
 "nbformat_minor": 5
}
